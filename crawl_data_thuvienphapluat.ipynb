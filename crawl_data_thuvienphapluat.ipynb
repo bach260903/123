{
 "cells": [
  {
   "cell_type": "code",
   "execution_count": 6,
   "id": "a427722f-4707-40bf-b064-efcf2c4a64b9",
   "metadata": {},
   "outputs": [
    {
     "name": "stdout",
     "output_type": "stream",
     "text": [
      "✅ Đã xuất toàn bộ nội dung HTML vào output.txt\n"
     ]
    }
   ],
   "source": [
    "import requests\n",
    "from bs4 import BeautifulSoup\n",
    "\n",
    "url = \"https://thuvienphapluat.vn/van-ban/Chung-khoan/Luat-Chung-khoan-nam-2019-399763.aspx\"\n",
    "headers = {\n",
    "    \"User-Agent\" : \"Mozilla/5.0 (Windows NT 10.0; Win64; x64) AppleWebKit/537.36 (KHTML, like Gecko) Chrome/137.0.0.0 Safari/537.36\"\n",
    "}\n",
    "\n",
    "response = requests.get(url, headers=headers)\n",
    "soup = BeautifulSoup(response.content, 'html.parser')\n",
    "\n",
    "# Ghi nội dung HTML ra file\n",
    "with open(\"output.txt\", \"w\", encoding=\"utf-8\") as f:\n",
    "    f.write(soup.prettify())  # .prettify() cho HTML có định dạng đẹp\n",
    "\n",
    "print(\"✅ Đã xuất toàn bộ nội dung HTML vào output.txt\")"
   ]
  },
  {
   "cell_type": "code",
   "execution_count": 1,
   "id": "c94f8d87-1a63-46ab-be91-18b0a30bc265",
   "metadata": {},
   "outputs": [
    {
     "name": "stdout",
     "output_type": "stream",
     "text": [
      "                                               title  \\\n",
      "0  Điều 9 Luật Ban hành văn bản quy phạm pháp luậ...   \n",
      "1                         Điều 1. Phạm vi điều chỉnh   \n",
      "2                          Điều 2. Đối tượng áp dụng   \n",
      "3  Điều 3. Áp dụng Luật Chứng khoán, các luật có ...   \n",
      "4                          Điều 4. Giải thích từ ngữ   \n",
      "\n",
      "                                             content  \n",
      "0  X Lao Động Tiền Lương X Chủ đề liên quan X Giả...  \n",
      "1  Luật này quy định các hoạt động về chứng khoán...  \n",
      "2  1. Tổ chức, cá nhân Việt Nam và tổ chức, cá nh...  \n",
      "3  Các hoạt động về chứng khoán và thị trường chứ...  \n",
      "4  Trong Luật này, các từ ngữ dưới đây được hiểu ...  \n"
     ]
    }
   ],
   "source": [
    "from bs4 import BeautifulSoup\n",
    "import pandas as pd\n",
    "import re\n",
    "\n",
    "# Đọc HTML\n",
    "with open(\"output.txt\", \"r\", encoding=\"utf-8\") as f:\n",
    "    html = f.read()\n",
    "\n",
    "soup = BeautifulSoup(html, \"html.parser\")\n",
    "# Tìm nội dung văn bản\n",
    "content_div = soup.find(\"div\", class_=\"divDocContent\")\n",
    "if content_div is None:\n",
    "    content_div = soup.body\n",
    "\n",
    "results = []\n",
    "current_article = {\"title\": \"\", \"content\": \"\"}\n",
    "\n",
    "for tag in content_div.find_all([\"p\", \"strong\", \"h2\", \"h3\"], recursive=True):\n",
    "    text = tag.get_text(separator=\" \", strip=True)\n",
    "    text = re.sub(r\"\\s+\", \" \", text)  # xoá nhiều khoảng trắng liên tiếp\n",
    "\n",
    "    if re.match(r\"^Điều\\s+\\d+\", text):  # Nếu là tiêu đề Điều\n",
    "        if current_article[\"title\"]:\n",
    "            results.append(current_article)\n",
    "        current_article = {\"title\": text, \"content\": \"\"}\n",
    "    else:\n",
    "        if current_article[\"title\"]:\n",
    "            current_article[\"content\"] += text + \" \"\n",
    "\n",
    "# Tạo DataFrame\n",
    "df = pd.DataFrame(results)\n",
    "\n",
    "# Làm sạch cột content\n",
    "df[\"content\"] = df[\"content\"].apply(lambda x: re.sub(r\"\\s+\", \" \", x).strip())\n",
    "\n",
    "# Xem thử\n",
    "print(df.head())\n",
    "\n",
    "# Lưu file nếu cần\n",
    "df.to_excel(\"luat_chung_khoan_2019.xlsx\", index=False)"
   ]
  }
 ],
 "metadata": {
  "kernelspec": {
   "display_name": "Python 3 (ipykernel)",
   "language": "python",
   "name": "python3"
  },
  "language_info": {
   "codemirror_mode": {
    "name": "ipython",
    "version": 3
   },
   "file_extension": ".py",
   "mimetype": "text/x-python",
   "name": "python",
   "nbconvert_exporter": "python",
   "pygments_lexer": "ipython3",
   "version": "3.13.5"
  }
 },
 "nbformat": 4,
 "nbformat_minor": 5
}
